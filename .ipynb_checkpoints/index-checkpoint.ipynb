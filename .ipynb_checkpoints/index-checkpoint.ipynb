{
 "cells": [
  {
   "cell_type": "markdown",
   "id": "bd2a2ed9-ea25-498f-8d42-ffab4e84078d",
   "metadata": {},
   "source": [
    "---\n",
    "title: \"Perception Blog\"\n",
    "format:\n",
    "    html: \n",
    "        code-fold: true\n",
    "jupyter: python3\n",
    "---"
   ]
  },
  {
   "cell_type": "markdown",
   "id": "934932f1-04c2-4856-8df9-8d77f0be7fa4",
   "metadata": {},
   "source": [
    "In this blog post, I implemented the perceptron algorithm to separate"
   ]
  },
  {
   "cell_type": "code",
   "execution_count": null,
   "id": "766b7c75-c197-447d-b7fc-f72c0d049caf",
   "metadata": {},
   "outputs": [],
   "source": [
    "import numpy as np\n",
    "import pandas as pd\n",
    "import seaborn as sns\n",
    "from matplotlib import pyplot as plt\n",
    "\n",
    "from sklearn.datasets import make_blobs\n",
    "\n",
    "np.random.seed(6010)\n",
    "\n",
    "n = 100\n",
    "p_features = 3\n",
    "\n",
    "X, y = make_blobs(n_samples = 200, n_features = p_features - 1, centers = [(-2, 1), (2, 5)])\n",
    "\n",
    "fig = plt.scatter(X[:,0], X[:,1], c = y)\n",
    "xlab = plt.xlabel(\"Feature 1\")\n",
    "ylab = plt.ylabel(\"Feature 2\")\n",
    "\n",
    "\n",
    "from perceptron import Perceptron\n",
    "p1 = Perceptron() \n",
    "p1.fit(X, y)\n",
    "\n",
    "def draw_line(w, x_min, x_max):\n",
    "  x = np.linspace(x_min, x_max, 101)\n",
    "  y = -(w[0]*x + w[2])/w[1]\n",
    "  plt.plot(x, y, color = \"black\")\n",
    "\n",
    "fig = plt.scatter(X[:,0], X[:,1], c = y)\n",
    "fig = draw_line(p1.w, -2, 2)\n",
    "\n",
    "\n",
    "xlab = plt.xlabel(\"Feature 1\")\n",
    "ylab = plt.ylabel(\"Feature 2\")\n",
    "print(p1.history[-10:])"
   ]
  },
  {
   "cell_type": "code",
   "execution_count": null,
   "id": "54e0be5b-0885-49c5-84bd-b68f92cd70de",
   "metadata": {},
   "outputs": [],
   "source": []
  },
  {
   "cell_type": "code",
   "execution_count": null,
   "id": "fb4028cd-9fa8-457a-8e16-52a5d90a2c91",
   "metadata": {},
   "outputs": [],
   "source": [
    "np.random.seed(3000)\n",
    "n = 100\n",
    "p_features = 3\n",
    "\n",
    "X, y = make_blobs(n_samples = 200, n_features = p_features - 1, centers = [(-2, 2), (2, 4)])\n",
    "\n",
    "fig = plt.scatter(X[:,0], X[:,1], c = y)\n",
    "xlab = plt.xlabel(\"Feature 1\")\n",
    "ylab = plt.ylabel(\"Feature 2\")\n",
    "\n",
    "p2 = Perceptron() \n",
    "\n",
    "p2.fit(X, y)\n",
    "\n",
    "fig = plt.scatter(X[:,0], X[:,1], c = y)\n",
    "fig = draw_line(p2.w, -2, 2)\n",
    "\n",
    "xlab = plt.xlabel(\"Feature 1\")\n",
    "ylab = plt.ylabel(\"Feature 2\")\n",
    "print(p2.history[-10:])"
   ]
  },
  {
   "cell_type": "code",
   "execution_count": null,
   "id": "385db1ab-fe58-4a40-877e-e7da0d32eb0e",
   "metadata": {},
   "outputs": [],
   "source": []
  },
  {
   "cell_type": "code",
   "execution_count": null,
   "id": "bbecf26e-6669-44b2-99ca-4c063619b911",
   "metadata": {},
   "outputs": [],
   "source": [
    "np.random.seed(3000)\n",
    "n = 100\n",
    "p_features = 5\n",
    "\n",
    "X, y = make_blobs(n_samples = 200, n_features = p_features - 1, centers = [(-2, 2), (2, 4)])\n",
    "\n",
    "\n",
    "p3 = Perceptron() \n",
    "\n",
    "p3.fit(X, y)\n",
    "\n",
    "print(p3.history[:10])\n",
    "print(p3.history[-10:])"
   ]
  }
 ],
 "metadata": {
  "kernelspec": {
   "display_name": "Python 3 (ipykernel)",
   "language": "python",
   "name": "python3"
  },
  "language_info": {
   "codemirror_mode": {
    "name": "ipython",
    "version": 3
   },
   "file_extension": ".py",
   "mimetype": "text/x-python",
   "name": "python",
   "nbconvert_exporter": "python",
   "pygments_lexer": "ipython3",
   "version": "3.9.16"
  }
 },
 "nbformat": 4,
 "nbformat_minor": 5
}
